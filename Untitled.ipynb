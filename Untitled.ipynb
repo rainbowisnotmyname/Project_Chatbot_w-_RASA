{
 "cells": [
  {
   "cell_type": "code",
   "execution_count": 1,
   "id": "e6b4c9b9-3d42-4023-81d4-345f79e5a975",
   "metadata": {},
   "outputs": [],
   "source": [
    "import nltk"
   ]
  },
  {
   "cell_type": "code",
   "execution_count": 2,
   "id": "6f58456a-a9aa-48d9-94de-0cd45f0c39ec",
   "metadata": {},
   "outputs": [],
   "source": [
    "from nltk.sentiment.vader import SentimentIntensityAnalyzer"
   ]
  },
  {
   "cell_type": "code",
   "execution_count": 3,
   "id": "baa42109-6d3c-4d7d-900c-dc0900ca6667",
   "metadata": {},
   "outputs": [],
   "source": [
    "sid = SentimentIntensityAnalyzer()"
   ]
  },
  {
   "cell_type": "code",
   "execution_count": 5,
   "id": "58a8a3de-9c6e-4772-acbf-128c8fd449a9",
   "metadata": {},
   "outputs": [
    {
     "data": {
      "text/plain": [
       "{'neg': 0.778, 'neu': 0.222, 'pos': 0.0, 'compound': -0.5423}"
      ]
     },
     "execution_count": 5,
     "metadata": {},
     "output_type": "execute_result"
    }
   ],
   "source": [
    "sid.polarity_scores('fuck up')"
   ]
  },
  {
   "cell_type": "code",
   "execution_count": null,
   "id": "215d975c-0b8b-4eb5-a421-c2e099c06fc0",
   "metadata": {},
   "outputs": [],
   "source": []
  }
 ],
 "metadata": {
  "kernelspec": {
   "display_name": "Python 3.9.6 64-bit",
   "language": "python",
   "name": "python3"
  },
  "language_info": {
   "codemirror_mode": {
    "name": "ipython",
    "version": 3
   },
   "file_extension": ".py",
   "mimetype": "text/x-python",
   "name": "python",
   "nbconvert_exporter": "python",
   "pygments_lexer": "ipython3",
   "version": "3.9.6"
  },
  "vscode": {
   "interpreter": {
    "hash": "11a6f305fb1ffb1169bd793e87ff9aff8e0de3a076627bfb7adb9036e7c206f0"
   }
  }
 },
 "nbformat": 4,
 "nbformat_minor": 5
}
